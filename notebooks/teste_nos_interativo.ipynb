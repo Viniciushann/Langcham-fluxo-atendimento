{
 "cells": [
  {
   "cell_type": "markdown",
   "metadata": {},
   "source": [
    "# 🧪 Teste Interativo dos Nós - WhatsApp Bot\n",
    "\n",
    "Este notebook permite testar cada nó individualmente, similar ao fluxo do n8n.\n",
    "\n",
    "**Vantagens:**\n",
    "- ✅ Executa um nó por vez\n",
    "- ✅ Visualiza input e output de cada nó\n",
    "- ✅ Pode modificar o estado entre nós\n",
    "- ✅ Debugging visual em tempo real\n",
    "\n",
    "---"
   ]
  },
  {
   "cell_type": "markdown",
   "metadata": {},
   "source": [
    "## 📦 CÉLULA 1: Imports e Setup"
   ]
  },
  {
   "cell_type": "code",
   "execution_count": null,
   "metadata": {},
   "outputs": [],
   "source": [
    "import sys\n",
    "import os\n",
    "\n",
    "# Adicionar diretório raiz ao path\n",
    "sys.path.insert(0, os.path.abspath('..'))\n",
    "\n",
    "# Imports dos nós (comentados até instalar dependências)\n",
    "# from src.models.state import AgentState, criar_estado_inicial\n",
    "# from src.nodes.webhook import validar_webhook, verificar_cliente, cadastrar_cliente\n",
    "# from src.nodes.media import processar_texto, processar_audio, processar_imagem\n",
    "# from src.nodes.queue import gerenciar_fila, aguardar_mensagens\n",
    "# from src.nodes.agent import processar_agente\n",
    "# from src.nodes.response import fragmentar_resposta, enviar_respostas\n",
    "\n",
    "import asyncio\n",
    "import json\n",
    "from pprint import pprint\n",
    "from datetime import datetime\n",
    "\n",
    "print(\"✅ Imports carregados com sucesso!\")\n",
    "print(f\"📅 Data/Hora: {datetime.now().strftime('%Y-%m-%d %H:%M:%S')}\")"
   ]
  },
  {
   "cell_type": "markdown",
   "metadata": {},
   "source": [
    "## 📥 CÉLULA 2: Criar Estado Inicial (INPUT)\n",
    "\n",
    "Este é o \"input\" do fluxo - simulando um webhook recebido da Evolution API."
   ]
  },
  {
   "cell_type": "code",
   "execution_count": null,
   "metadata": {},
   "outputs": [],
   "source": [
    "# Webhook simulado da Evolution API\n",
    "webhook_data = {\n",
    "    \"body\": {\n",
    "        \"event\": \"messages.upsert\",\n",
    "        \"instance\": \"test-instance\",\n",
    "        \"data\": {\n",
    "            \"key\": {\n",
    "                \"remoteJid\": \"5562999999999@s.whatsapp.net\",\n",
    "                \"id\": \"MSG123456ABC\",\n",
    "                \"fromMe\": False\n",
    "            },\n",
    "            \"pushName\": \"João Silva\",\n",
    "            \"message\": {\n",
    "                \"conversation\": \"Olá, quero saber sobre os serviços de drywall e gesso. Vocês fazem orçamento?\"\n",
    "            },\n",
    "            \"messageType\": \"conversation\",\n",
    "            \"messageTimestamp\": 1729522800\n",
    "        }\n",
    "    }\n",
    "}\n",
    "\n",
    "# Criar estado inicial\n",
    "# state = criar_estado_inicial()\n",
    "state = {\n",
    "    \"raw_webhook_data\": webhook_data,\n",
    "    \"next_action\": \"\"\n",
    "}\n",
    "\n",
    "print(\"=\"*60)\n",
    "print(\"📥 INPUT - Estado Inicial\")\n",
    "print(\"=\"*60)\n",
    "print(f\"\\n📱 Webhook recebido de: {webhook_data['body']['data']['pushName']}\")\n",
    "print(f\"📞 Número: {webhook_data['body']['data']['key']['remoteJid']}\")\n",
    "print(f\"💬 Mensagem: {webhook_data['body']['data']['message']['conversation']}\")\n",
    "print(f\"📧 Tipo: {webhook_data['body']['data']['messageType']}\")\n",
    "print(\"\\n\" + \"=\"*60)"
   ]
  },
  {
   "cell_type": "markdown",
   "metadata": {},
   "source": [
    "## 🔍 CÉLULA 3: Testar NÓ 1 - validar_webhook\n",
    "\n",
    "**Função:** Valida webhook e extrai dados\n",
    "\n",
    "**Input:** `raw_webhook_data`  \n",
    "**Output:** `cliente_numero`, `cliente_nome`, `mensagem_tipo`, `next_action`"
   ]
  },
  {
   "cell_type": "code",
   "execution_count": null,
   "metadata": {},
   "outputs": [],
   "source": [
    "print(\"=\"*60)\n",
    "print(\"🔍 TESTANDO NÓ 1: validar_webhook\")\n",
    "print(\"=\"*60)\n",
    "\n",
    "# Executar o nó\n",
    "# resultado = await validar_webhook(state)\n",
    "# Para demonstração, simular resultado:\n",
    "resultado = {\n",
    "    **state,\n",
    "    \"cliente_numero\": \"5562999999999\",\n",
    "    \"cliente_nome\": \"João Silva\",\n",
    "    \"mensagem_tipo\": \"conversation\",\n",
    "    \"mensagem_id\": \"MSG123456ABC\",\n",
    "    \"mensagem_base64\": \"Olá, quero saber sobre os serviços de drywall e gesso. Vocês fazem orçamento?\",\n",
    "    \"mensagem_from_me\": False,\n",
    "    \"next_action\": \"verificar_cliente\"\n",
    "}\n",
    "\n",
    "print(\"\\n📤 OUTPUT do validar_webhook:\")\n",
    "print(\"-\"*60)\n",
    "print(f\"✓ Cliente número: {resultado.get('cliente_numero')}\")\n",
    "print(f\"✓ Cliente nome: {resultado.get('cliente_nome')}\")\n",
    "print(f\"✓ Tipo mensagem: {resultado.get('mensagem_tipo')}\")\n",
    "print(f\"✓ Mensagem ID: {resultado.get('mensagem_id')}\")\n",
    "print(f\"✓ Próxima ação: {resultado.get('next_action')}\")\n",
    "print(\"=\"*60)\n",
    "\n",
    "# Atualizar state para próximo nó\n",
    "state = resultado"
   ]
  },
  {
   "cell_type": "markdown",
   "metadata": {},
   "source": [
    "## 🔍 CÉLULA 4: Testar NÓ 2 - verificar_cliente\n",
    "\n",
    "**Função:** Verifica se cliente existe no Supabase\n",
    "\n",
    "**Input:** `cliente_numero`  \n",
    "**Output:** `cliente_existe`, `cliente_id`, `next_action`"
   ]
  },
  {
   "cell_type": "code",
   "execution_count": null,
   "metadata": {},
   "outputs": [],
   "source": [
    "print(\"=\"*60)\n",
    "print(\"🔍 TESTANDO NÓ 2: verificar_cliente\")\n",
    "print(\"=\"*60)\n",
    "\n",
    "print(f\"\\n📥 INPUT: Cliente número = {state.get('cliente_numero')}\")\n",
    "\n",
    "# Executar o nó (async)\n",
    "# resultado = await verificar_cliente(state)\n",
    "# Para demonstração, simular dois cenários:\n",
    "\n",
    "# CENÁRIO A: Cliente NÃO encontrado\n",
    "resultado = {\n",
    "    **state,\n",
    "    \"cliente_existe\": False,\n",
    "    \"cliente_id\": None,\n",
    "    \"next_action\": \"cadastrar_cliente\"\n",
    "}\n",
    "\n",
    "# # CENÁRIO B: Cliente encontrado (descomente para testar)\n",
    "# resultado = {\n",
    "#     **state,\n",
    "#     \"cliente_existe\": True,\n",
    "#     \"cliente_id\": \"abc123xyz\",\n",
    "#     \"next_action\": \"processar_midia\"\n",
    "# }\n",
    "\n",
    "print(\"\\n📤 OUTPUT do verificar_cliente:\")\n",
    "print(\"-\"*60)\n",
    "print(f\"✓ Cliente existe: {resultado.get('cliente_existe')}\")\n",
    "print(f\"✓ Cliente ID: {resultado.get('cliente_id')}\")\n",
    "print(f\"✓ Próxima ação: {resultado.get('next_action')}\")\n",
    "print(\"=\"*60)\n",
    "\n",
    "state = resultado"
   ]
  },
  {
   "cell_type": "markdown",
   "metadata": {},
   "source": [
    "## 🔍 CÉLULA 5: Testar NÓ 3 - cadastrar_cliente (se necessário)\n",
    "\n",
    "**Função:** Cadastra novo cliente no Supabase\n",
    "\n",
    "**Input:** `cliente_nome`, `cliente_numero`, `mensagem_base64`, `mensagem_tipo`  \n",
    "**Output:** `cliente_id`, `cliente_existe`, `next_action`\n",
    "\n",
    "**Nota:** Execute esta célula apenas se `cliente_existe == False`"
   ]
  },
  {
   "cell_type": "code",
   "execution_count": null,
   "metadata": {},
   "outputs": [],
   "source": [
    "if not state.get(\"cliente_existe\"):\n",
    "    print(\"=\"*60)\n",
    "    print(\"🔍 TESTANDO NÓ 3: cadastrar_cliente\")\n",
    "    print(\"=\"*60)\n",
    "    \n",
    "    print(f\"\\n📥 INPUT: Cadastrando cliente {state.get('cliente_nome')}\")\n",
    "    \n",
    "    # Executar o nó\n",
    "    # resultado = await cadastrar_cliente(state)\n",
    "    resultado = {\n",
    "        **state,\n",
    "        \"cliente_id\": \"novo_cliente_xyz789\",\n",
    "        \"cliente_existe\": True,\n",
    "        \"next_action\": \"processar_midia\"\n",
    "    }\n",
    "    \n",
    "    print(\"\\n📤 OUTPUT do cadastrar_cliente:\")\n",
    "    print(\"-\"*60)\n",
    "    print(f\"✓ Cliente cadastrado com ID: {resultado.get('cliente_id')}\")\n",
    "    print(f\"✓ Cliente existe: {resultado.get('cliente_existe')}\")\n",
    "    print(f\"✓ Próxima ação: {resultado.get('next_action')}\")\n",
    "    print(\"=\"*60)\n",
    "    \n",
    "    state = resultado\n",
    "else:\n",
    "    print(\"⏭️  Cliente já existe, pulando cadastro\")"
   ]
  },
  {
   "cell_type": "markdown",
   "metadata": {},
   "source": [
    "## 🔍 CÉLULA 6: Testar NÓ 4 - processar_texto\n",
    "\n",
    "**Função:** Processa mensagem de texto\n",
    "\n",
    "**Input:** `mensagem_base64`  \n",
    "**Output:** `mensagem_conteudo`, `mensagem_transcrita`, `next_action`"
   ]
  },
  {
   "cell_type": "code",
   "execution_count": null,
   "metadata": {},
   "outputs": [],
   "source": [
    "print(\"=\"*60)\n",
    "print(\"🔍 TESTANDO NÓ 4: processar_texto\")\n",
    "print(\"=\"*60)\n",
    "\n",
    "print(f\"\\n📥 INPUT: {state.get('mensagem_base64')[:50]}...\")\n",
    "\n",
    "# Executar o nó\n",
    "# resultado = processar_texto(state)\n",
    "resultado = {\n",
    "    **state,\n",
    "    \"mensagem_conteudo\": state.get(\"mensagem_base64\"),\n",
    "    \"mensagem_transcrita\": state.get(\"mensagem_base64\"),\n",
    "    \"next_action\": \"gerenciar_fila\"\n",
    "}\n",
    "\n",
    "print(\"\\n📤 OUTPUT do processar_texto:\")\n",
    "print(\"-\"*60)\n",
    "print(f\"✓ Conteúdo: {resultado.get('mensagem_conteudo')[:50]}...\")\n",
    "print(f\"✓ Próxima ação: {resultado.get('next_action')}\")\n",
    "print(\"=\"*60)\n",
    "\n",
    "state = resultado"
   ]
  },
  {
   "cell_type": "markdown",
   "metadata": {},
   "source": [
    "## 🔍 CÉLULA 7: Testar NÓ 5 - gerenciar_fila\n",
    "\n",
    "**Função:** Adiciona mensagem à fila Redis\n",
    "\n",
    "**Input:** `cliente_numero`, `mensagem_conteudo`  \n",
    "**Output:** `fila_mensagens`, `deve_processar`, `next_action`"
   ]
  },
  {
   "cell_type": "code",
   "execution_count": null,
   "metadata": {},
   "outputs": [],
   "source": [
    "print(\"=\"*60)\n",
    "print(\"🔍 TESTANDO NÓ 5: gerenciar_fila\")\n",
    "print(\"=\"*60)\n",
    "\n",
    "print(f\"\\n📥 INPUT: Cliente {state.get('cliente_numero')}\")\n",
    "\n",
    "# Executar o nó (async)\n",
    "# resultado = await gerenciar_fila(state)\n",
    "# Simular primeira mensagem (deve processar)\n",
    "resultado = {\n",
    "    **state,\n",
    "    \"fila_mensagens\": [\n",
    "        {\n",
    "            \"conteudo\": state.get(\"mensagem_conteudo\"),\n",
    "            \"timestamp\": \"2025-10-21T10:00:00\",\n",
    "            \"tipo\": state.get(\"mensagem_tipo\")\n",
    "        }\n",
    "    ],\n",
    "    \"deve_processar\": True,\n",
    "    \"next_action\": \"aguardar_mensagens\"\n",
    "}\n",
    "\n",
    "print(\"\\n📤 OUTPUT do gerenciar_fila:\")\n",
    "print(\"-\"*60)\n",
    "print(f\"✓ Mensagens na fila: {len(resultado.get('fila_mensagens', []))}\")\n",
    "print(f\"✓ Deve processar: {resultado.get('deve_processar')}\")\n",
    "print(f\"✓ Próxima ação: {resultado.get('next_action')}\")\n",
    "print(\"=\"*60)\n",
    "\n",
    "state = resultado"
   ]
  },
  {
   "cell_type": "markdown",
   "metadata": {},
   "source": [
    "## 📊 CÉLULA 8: Visualizar Estado Completo\n",
    "\n",
    "Estado atual após processar todos os nós."
   ]
  },
  {
   "cell_type": "code",
   "execution_count": null,
   "metadata": {},
   "outputs": [],
   "source": [
    "print(\"=\"*60)\n",
    "print(\"📊 ESTADO COMPLETO ATUAL\")\n",
    "print(\"=\"*60)\n",
    "print(\"\\n🔍 Informações do Cliente:\")\n",
    "print(f\"  - Número: {state.get('cliente_numero')}\")\n",
    "print(f\"  - Nome: {state.get('cliente_nome')}\")\n",
    "print(f\"  - Existe: {state.get('cliente_existe')}\")\n",
    "print(f\"  - ID: {state.get('cliente_id')}\")\n",
    "\n",
    "print(\"\\n💬 Informações da Mensagem:\")\n",
    "print(f\"  - Tipo: {state.get('mensagem_tipo')}\")\n",
    "print(f\"  - Conteúdo: {state.get('mensagem_conteudo', '')[:60]}...\")\n",
    "print(f\"  - ID: {state.get('mensagem_id')}\")\n",
    "\n",
    "print(\"\\n📋 Fila:\")\n",
    "print(f\"  - Mensagens: {len(state.get('fila_mensagens', []))}\")\n",
    "print(f\"  - Deve processar: {state.get('deve_processar')}\")\n",
    "\n",
    "print(\"\\n➡️  Fluxo:\")\n",
    "print(f\"  - Próxima ação: {state.get('next_action')}\")\n",
    "\n",
    "if state.get('erro'):\n",
    "    print(\"\\n❌ Erro:\")\n",
    "    print(f\"  - Mensagem: {state.get('erro')}\")\n",
    "\n",
    "print(\"\\n\" + \"=\"*60)\n",
    "print(\"✅ Estado processado com sucesso!\")\n",
    "print(\"=\"*60)"
   ]
  },
  {
   "cell_type": "markdown",
   "metadata": {},
   "source": [
    "## 🧹 CÉLULA 9: Reset - Criar Novo Teste\n",
    "\n",
    "Execute esta célula para começar um novo teste do zero."
   ]
  },
  {
   "cell_type": "code",
   "execution_count": null,
   "metadata": {},
   "outputs": [],
   "source": [
    "print(\"🔄 Resetando estado...\")\n",
    "\n",
    "# Voltar para CÉLULA 2 para criar novo webhook\n",
    "print(\"\\n✅ Pronto para novo teste!\")\n",
    "print(\"➡️  Execute novamente a CÉLULA 2 com um novo webhook\")"
   ]
  },
  {
   "cell_type": "markdown",
   "metadata": {},
   "source": [
    "---\n",
    "\n",
    "## 📚 Próximos Passos\n",
    "\n",
    "Para continuar testando:\n",
    "\n",
    "1. **Instalar dependências**: `pip install jupyter ipython`\n",
    "2. **Iniciar Jupyter**: `jupyter notebook`\n",
    "3. **Descomentar imports** na CÉLULA 1\n",
    "4. **Executar célula por célula**\n",
    "\n",
    "---\n",
    "\n",
    "## 🎯 Fases Implementadas\n",
    "\n",
    "- ✅ Fase 0: Preparação do Ambiente\n",
    "- ✅ Fase 1: Modelo de Estado e Tipos\n",
    "- ✅ Fase 2: Clientes Externos\n",
    "- ✅ Fase 3: Webhook e Cadastro\n",
    "- ⏳ Fase 4: Processamento de Mídia (em desenvolvimento)\n",
    "\n",
    "---"
   ]
  }
 ],
 "metadata": {
  "kernelspec": {
   "display_name": "Python 3",
   "language": "python",
   "name": "python3"
  },
  "language_info": {
   "codemirror_mode": {
    "name": "ipython",
    "version": 3
   },
   "file_extension": ".py",
   "mimetype": "text/x-python",
   "name": "python",
   "nbconvert_exporter": "python",
   "pygments_lexer": "ipython3",
   "version": "3.11.0"
  }
 },
 "nbformat": 4,
 "nbformat_minor": 4
}
